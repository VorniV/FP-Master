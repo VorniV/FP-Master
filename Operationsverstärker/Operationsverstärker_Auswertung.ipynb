{
 "cells": [
  {
   "cell_type": "code",
   "execution_count": 1,
   "metadata": {},
   "outputs": [],
   "source": [
    "import pandas as pd\n",
    "import scipy as scp\n",
    "import numpy as np\n",
    "import matplotlib.pyplot as plt\n",
    "import uncertainties as uc\n",
    "from math import e"
   ]
  },
  {
   "cell_type": "code",
   "execution_count": 2,
   "metadata": {},
   "outputs": [],
   "source": [
    "df_inv_1k_68k=pd.read_csv('M1_1k_68k.txt',sep='\\t')\n",
    "df_inv_1k_100k=pd.read_csv('M1_1k_100k.txt',sep='\\t')\n",
    "df_inv_10k_100k=pd.read_csv('M1_10k_100k.txt',sep='\\t')\n",
    "df_int=pd.read_csv('M2_Integrator.txt', sep='\\t')\n",
    "df_diff=pd.read_csv('M3_Differentiator.txt', sep='\\t')\n",
    "df_ged_schwing=pd.read_csv('scope_16.csv')"
   ]
  },
  {
   "cell_type": "code",
   "execution_count": 3,
   "metadata": {},
   "outputs": [
    {
     "data": {
      "text/html": [
       "<div>\n",
       "<style scoped>\n",
       "    .dataframe tbody tr th:only-of-type {\n",
       "        vertical-align: middle;\n",
       "    }\n",
       "\n",
       "    .dataframe tbody tr th {\n",
       "        vertical-align: top;\n",
       "    }\n",
       "\n",
       "    .dataframe thead th {\n",
       "        text-align: right;\n",
       "    }\n",
       "</style>\n",
       "<table border=\"1\" class=\"dataframe\">\n",
       "  <thead>\n",
       "    <tr style=\"text-align: right;\">\n",
       "      <th></th>\n",
       "      <th>x-axis</th>\n",
       "      <th>1</th>\n",
       "      <th>2</th>\n",
       "    </tr>\n",
       "  </thead>\n",
       "  <tbody>\n",
       "    <tr>\n",
       "      <th>0</th>\n",
       "      <td>second</td>\n",
       "      <td>Volt</td>\n",
       "      <td>Volt</td>\n",
       "    </tr>\n",
       "    <tr>\n",
       "      <th>1</th>\n",
       "      <td>-9.2600E-03</td>\n",
       "      <td>NaN</td>\n",
       "      <td>NaN</td>\n",
       "    </tr>\n",
       "    <tr>\n",
       "      <th>2</th>\n",
       "      <td>-9.2500E-03</td>\n",
       "      <td>-46.7940E-03</td>\n",
       "      <td>-467.1106E-03</td>\n",
       "    </tr>\n",
       "    <tr>\n",
       "      <th>3</th>\n",
       "      <td>-9.2400E-03</td>\n",
       "      <td>-84.4824E-03</td>\n",
       "      <td>-484.6985E-03</td>\n",
       "    </tr>\n",
       "    <tr>\n",
       "      <th>4</th>\n",
       "      <td>-9.2300E-03</td>\n",
       "      <td>-46.7940E-03</td>\n",
       "      <td>-467.1106E-03</td>\n",
       "    </tr>\n",
       "    <tr>\n",
       "      <th>...</th>\n",
       "      <td>...</td>\n",
       "      <td>...</td>\n",
       "      <td>...</td>\n",
       "    </tr>\n",
       "    <tr>\n",
       "      <th>1996</th>\n",
       "      <td>+10.6900E-03</td>\n",
       "      <td>-46.7940E-03</td>\n",
       "      <td>+477.6131E-03</td>\n",
       "    </tr>\n",
       "    <tr>\n",
       "      <th>1997</th>\n",
       "      <td>+10.7000E-03</td>\n",
       "      <td>-84.4824E-03</td>\n",
       "      <td>+458.7688E-03</td>\n",
       "    </tr>\n",
       "    <tr>\n",
       "      <th>1998</th>\n",
       "      <td>+10.7100E-03</td>\n",
       "      <td>-46.7940E-03</td>\n",
       "      <td>+477.6131E-03</td>\n",
       "    </tr>\n",
       "    <tr>\n",
       "      <th>1999</th>\n",
       "      <td>+10.7200E-03</td>\n",
       "      <td>-6.5930E-03</td>\n",
       "      <td>+477.6131E-03</td>\n",
       "    </tr>\n",
       "    <tr>\n",
       "      <th>2000</th>\n",
       "      <td>+10.7300E-03</td>\n",
       "      <td>-24.1809E-03</td>\n",
       "      <td>+473.8442E-03</td>\n",
       "    </tr>\n",
       "  </tbody>\n",
       "</table>\n",
       "<p>2001 rows × 3 columns</p>\n",
       "</div>"
      ],
      "text/plain": [
       "            x-axis             1              2\n",
       "0           second          Volt           Volt\n",
       "1      -9.2600E-03           NaN            NaN\n",
       "2      -9.2500E-03  -46.7940E-03  -467.1106E-03\n",
       "3      -9.2400E-03  -84.4824E-03  -484.6985E-03\n",
       "4      -9.2300E-03  -46.7940E-03  -467.1106E-03\n",
       "...            ...           ...            ...\n",
       "1996  +10.6900E-03  -46.7940E-03  +477.6131E-03\n",
       "1997  +10.7000E-03  -84.4824E-03  +458.7688E-03\n",
       "1998  +10.7100E-03  -46.7940E-03  +477.6131E-03\n",
       "1999  +10.7200E-03   -6.5930E-03  +477.6131E-03\n",
       "2000  +10.7300E-03  -24.1809E-03  +473.8442E-03\n",
       "\n",
       "[2001 rows x 3 columns]"
      ]
     },
     "execution_count": 3,
     "metadata": {},
     "output_type": "execute_result"
    }
   ],
   "source": [
    "df_ged_schwing"
   ]
  },
  {
   "cell_type": "code",
   "execution_count": 4,
   "metadata": {},
   "outputs": [
    {
     "data": {
      "text/html": [
       "<div>\n",
       "<style scoped>\n",
       "    .dataframe tbody tr th:only-of-type {\n",
       "        vertical-align: middle;\n",
       "    }\n",
       "\n",
       "    .dataframe tbody tr th {\n",
       "        vertical-align: top;\n",
       "    }\n",
       "\n",
       "    .dataframe thead th {\n",
       "        text-align: right;\n",
       "    }\n",
       "</style>\n",
       "<table border=\"1\" class=\"dataframe\">\n",
       "  <thead>\n",
       "    <tr style=\"text-align: right;\">\n",
       "      <th></th>\n",
       "      <th>x-axis</th>\n",
       "      <th>1</th>\n",
       "      <th>2</th>\n",
       "    </tr>\n",
       "  </thead>\n",
       "  <tbody>\n",
       "    <tr>\n",
       "      <th>0</th>\n",
       "      <td>NaN</td>\n",
       "      <td>NaN</td>\n",
       "      <td>NaN</td>\n",
       "    </tr>\n",
       "    <tr>\n",
       "      <th>1</th>\n",
       "      <td>-0.00926</td>\n",
       "      <td>NaN</td>\n",
       "      <td>NaN</td>\n",
       "    </tr>\n",
       "    <tr>\n",
       "      <th>2</th>\n",
       "      <td>-0.00925</td>\n",
       "      <td>-0.046794</td>\n",
       "      <td>-0.467111</td>\n",
       "    </tr>\n",
       "    <tr>\n",
       "      <th>3</th>\n",
       "      <td>-0.00924</td>\n",
       "      <td>-0.084482</td>\n",
       "      <td>-0.484698</td>\n",
       "    </tr>\n",
       "    <tr>\n",
       "      <th>4</th>\n",
       "      <td>-0.00923</td>\n",
       "      <td>-0.046794</td>\n",
       "      <td>-0.467111</td>\n",
       "    </tr>\n",
       "    <tr>\n",
       "      <th>...</th>\n",
       "      <td>...</td>\n",
       "      <td>...</td>\n",
       "      <td>...</td>\n",
       "    </tr>\n",
       "    <tr>\n",
       "      <th>1996</th>\n",
       "      <td>0.01069</td>\n",
       "      <td>-0.046794</td>\n",
       "      <td>0.477613</td>\n",
       "    </tr>\n",
       "    <tr>\n",
       "      <th>1997</th>\n",
       "      <td>0.01070</td>\n",
       "      <td>-0.084482</td>\n",
       "      <td>0.458769</td>\n",
       "    </tr>\n",
       "    <tr>\n",
       "      <th>1998</th>\n",
       "      <td>0.01071</td>\n",
       "      <td>-0.046794</td>\n",
       "      <td>0.477613</td>\n",
       "    </tr>\n",
       "    <tr>\n",
       "      <th>1999</th>\n",
       "      <td>0.01072</td>\n",
       "      <td>-0.006593</td>\n",
       "      <td>0.477613</td>\n",
       "    </tr>\n",
       "    <tr>\n",
       "      <th>2000</th>\n",
       "      <td>0.01073</td>\n",
       "      <td>-0.024181</td>\n",
       "      <td>0.473844</td>\n",
       "    </tr>\n",
       "  </tbody>\n",
       "</table>\n",
       "<p>2001 rows × 3 columns</p>\n",
       "</div>"
      ],
      "text/plain": [
       "       x-axis         1         2\n",
       "0         NaN       NaN       NaN\n",
       "1    -0.00926       NaN       NaN\n",
       "2    -0.00925 -0.046794 -0.467111\n",
       "3    -0.00924 -0.084482 -0.484698\n",
       "4    -0.00923 -0.046794 -0.467111\n",
       "...       ...       ...       ...\n",
       "1996  0.01069 -0.046794  0.477613\n",
       "1997  0.01070 -0.084482  0.458769\n",
       "1998  0.01071 -0.046794  0.477613\n",
       "1999  0.01072 -0.006593  0.477613\n",
       "2000  0.01073 -0.024181  0.473844\n",
       "\n",
       "[2001 rows x 3 columns]"
      ]
     },
     "execution_count": 4,
     "metadata": {},
     "output_type": "execute_result"
    }
   ],
   "source": [
    "df_ged_schwing\n",
    "df_ged_schwing = df_ged_schwing.apply(pd.to_numeric, args=('coerce',))\n",
    "df_ged_schwing"
   ]
  },
  {
   "cell_type": "code",
   "execution_count": 5,
   "metadata": {},
   "outputs": [
    {
     "data": {
      "text/plain": [
       "LinregressResult(slope=-0.980124219838675, intercept=4.150709884709497, rvalue=-0.9946531042802886, pvalue=3.299765284459144e-16, stderr=0.026275343054356186, intercept_stderr=0.11994431783566913)"
      ]
     },
     "execution_count": 5,
     "metadata": {},
     "output_type": "execute_result"
    }
   ],
   "source": [
    "x1=scp.stats.linregress(np.log(df_inv_1k_68k['#Frequenz [kH]'][2:]),np.log(df_inv_1k_68k['#Amplitude [V]'][2:]))\n",
    "x1"
   ]
  },
  {
   "cell_type": "code",
   "execution_count": 6,
   "metadata": {},
   "outputs": [
    {
     "data": {
      "text/plain": [
       "<matplotlib.legend.Legend at 0x25caf452910>"
      ]
     },
     "execution_count": 6,
     "metadata": {},
     "output_type": "execute_result"
    },
    {
     "data": {
      "image/png": "[encoded data removed]",
      "text/plain": [
       "<Figure size 578x357 with 1 Axes>"
      ]
     },
     "metadata": {},
     "output_type": "display_data"
    }
   ],
   "source": [
    "plt.plot(df_inv_1k_68k['#Frequenz [kH]'][:2],df_inv_1k_68k['#Amplitude [V]'][:2],'x',label='konstanter Bereich')\n",
    "plt.plot(df_inv_1k_68k['#Frequenz [kH]'][2:],df_inv_1k_68k['#Amplitude [V]'][2:],'x',label='linearer Bereich')\n",
    "plt.plot(np.logspace(1,3),np.exp(x1.intercept)*np.logspace(1,3)**x1.slope,label='linearer fit',linestyle='--')\n",
    "plt.xscale('log')\n",
    "plt.yscale('log')\n",
    "plt.xlabel('Frequenz [kHz]')\n",
    "plt.ylabel('Amplitude [V]')\n",
    "plt.legend()"
   ]
  },
  {
   "cell_type": "code",
   "execution_count": 7,
   "metadata": {},
   "outputs": [
    {
     "data": {
      "text/plain": [
       "LinregressResult(slope=-0.980124219838675, intercept=6.453294977703543, rvalue=-0.9946531042802886, pvalue=3.299765284459144e-16, stderr=0.026275343054356186, intercept_stderr=0.11994431783566913)"
      ]
     },
     "execution_count": 7,
     "metadata": {},
     "output_type": "execute_result"
    }
   ],
   "source": [
    "x1_g=scp.stats.linregress(np.log(df_inv_1k_68k['#Frequenz [kH]'][2:]),np.log(df_inv_1k_68k['#Amplitude [V]'][2:]/0.1))\n",
    "x1_g"
   ]
  },
  {
   "cell_type": "code",
   "execution_count": 8,
   "metadata": {},
   "outputs": [
    {
     "data": {
      "text/plain": [
       "949.0115172772167+/-136.19121890682678"
      ]
     },
     "execution_count": 8,
     "metadata": {},
     "output_type": "execute_result"
    }
   ],
   "source": [
    "V1_const=uc.ufloat(np.mean(df_inv_1k_68k['#Amplitude [V]'][:2]/0.1),scp.stats.sem(df_inv_1k_68k['#Amplitude [V]'][:2]/0.1))\n",
    "V1_const\n",
    "m1=uc.ufloat(x1_g.slope,x1_g.stderr)\n",
    "a1=uc.ufloat(x1_g.intercept,x1_g.intercept_stderr)\n",
    "#e**a1\n",
    "fg1=(V1_const/(e**(a1)*np.sqrt(2)))**(1/m1)\n",
    "fg1\n",
    "f1=(np.mean(df_inv_1k_68k['#Amplitude [V]'][:2]/0.1)/(e**(x1_g.intercept)*np.sqrt(2)))**(1/x1_g.slope)\n",
    "f1\n",
    "m1\n",
    "V1_const*fg1"
   ]
  },
  {
   "cell_type": "code",
   "execution_count": 9,
   "metadata": {},
   "outputs": [
    {
     "data": {
      "text/plain": [
       "64.0"
      ]
     },
     "execution_count": 9,
     "metadata": {},
     "output_type": "execute_result"
    },
    {
     "data": {
      "image/png": "[encoded data removed]",
      "text/plain": [
       "<Figure size 578x357 with 1 Axes>"
      ]
     },
     "metadata": {},
     "output_type": "display_data"
    }
   ],
   "source": [
    "plt.plot(df_inv_1k_68k['#Frequenz [kH]'][:2],df_inv_1k_68k['#Amplitude [V]'][:2]/0.1,'x',label='konstanter Bereich')\n",
    "plt.plot(df_inv_1k_68k['#Frequenz [kH]'][2:],df_inv_1k_68k['#Amplitude [V]'][2:]/0.1,'x',label='linearer Bereich')\n",
    "plt.plot(np.logspace(0.5,3),np.exp(x1_g.intercept)*np.logspace(0.5,3)**x1_g.slope,label='linearer fit',linestyle='--')\n",
    "plt.plot(f1,np.exp(x1_g.intercept)*f1**x1_g.slope,'x',label='Grenzfrequenz')\n",
    "plt.xscale('log')\n",
    "plt.yscale('log')\n",
    "plt.xlabel('Frequenz [kHz]')\n",
    "plt.ylabel('Gain')\n",
    "plt.xlim([10**(-0.2),10**3])\n",
    "plt.ylim([10**(-0.3),10**2])\n",
    "plt.legend()\n",
    "df_inv_1k_68k['#Amplitude [V]'][0]/0.1"
   ]
  },
  {
   "cell_type": "code",
   "execution_count": 10,
   "metadata": {},
   "outputs": [
    {
     "data": {
      "text/plain": [
       "LinregressResult(slope=-0.7669203924669347, intercept=5.354702248945436, rvalue=-0.9792144649077765, pvalue=1.1133615982006268e-09, stderr=0.04585734168074158, intercept_stderr=0.21927460333250084)"
      ]
     },
     "execution_count": 10,
     "metadata": {},
     "output_type": "execute_result"
    }
   ],
   "source": [
    "x2_g=scp.stats.linregress(np.log(df_inv_10k_100k['#Frequenz [kH]'][5:]),np.log(df_inv_10k_100k['#Amplitude [V]'][5:]/0.1))\n",
    "x2_g"
   ]
  },
  {
   "cell_type": "code",
   "execution_count": 11,
   "metadata": {},
   "outputs": [
    {
     "data": {
      "text/plain": [
       "843.2367949842828+/-329.17542874629066"
      ]
     },
     "execution_count": 11,
     "metadata": {},
     "output_type": "execute_result"
    }
   ],
   "source": [
    "V2_const=uc.ufloat(np.mean(df_inv_10k_100k['#Amplitude [V]'][:5]/0.1),scp.stats.sem(df_inv_10k_100k['#Amplitude [V]'][:5]/0.1))\n",
    "V2_const\n",
    "m2=uc.ufloat(x2_g.slope,x2_g.stderr)\n",
    "a2=uc.ufloat(x2_g.intercept,x2_g.intercept_stderr)\n",
    "#e**a1\n",
    "fg2=(V2_const/(e**(a2)*np.sqrt(2)))**(1/m2)\n",
    "fg2\n",
    "f2=(np.mean(df_inv_10k_100k['#Amplitude [V]'][:5]/0.1)/(e**(x2_g.intercept)*np.sqrt(2)))**(1/x2_g.slope)\n",
    "f2\n",
    "V2_const*fg2"
   ]
  },
  {
   "cell_type": "code",
   "execution_count": 12,
   "metadata": {},
   "outputs": [
    {
     "data": {
      "text/plain": [
       "<matplotlib.legend.Legend at 0x25cb281fc90>"
      ]
     },
     "execution_count": 12,
     "metadata": {},
     "output_type": "execute_result"
    },
    {
     "data": {
      "image/png": "[encoded data removed]",
      "text/plain": [
       "<Figure size 578x357 with 1 Axes>"
      ]
     },
     "metadata": {},
     "output_type": "display_data"
    }
   ],
   "source": [
    "plt.plot(df_inv_10k_100k['#Frequenz [kH]'][:5],df_inv_10k_100k['#Amplitude [V]'][:5]/0.1,'x',label='konstanter Bereich')\n",
    "plt.plot(df_inv_10k_100k['#Frequenz [kH]'][5:],df_inv_10k_100k['#Amplitude [V]'][5:]/0.1,'x',label='linearer Bereich')\n",
    "plt.plot(np.logspace(1,3.2),np.exp(x2_g.intercept)*np.logspace(1,3.2)**x2_g.slope,linestyle='--',label='linearer fit')\n",
    "plt.plot(f2,np.exp(x2_g.intercept)*f2**x2_g.slope,'x',label='Grenzfrequenz')\n",
    "plt.xscale('log')\n",
    "plt.yscale('log')\n",
    "plt.xlabel('Frequenz [kHz]')\n",
    "plt.ylabel('Gain')\n",
    "plt.xlim([10**(-0.3),10**3])\n",
    "plt.ylim([10**(-0.3),10**1.5])\n",
    "plt.legend()"
   ]
  },
  {
   "cell_type": "code",
   "execution_count": 13,
   "metadata": {},
   "outputs": [
    {
     "data": {
      "text/plain": [
       "LinregressResult(slope=-0.9549939873736917, intercept=6.405270268840066, rvalue=-0.9964789970057194, pvalue=2.2029480084584987e-15, stderr=0.022285705226222786, intercept_stderr=0.10511496865694768)"
      ]
     },
     "execution_count": 13,
     "metadata": {},
     "output_type": "execute_result"
    }
   ],
   "source": [
    "x3_g=scp.stats.linregress(np.log(df_inv_1k_100k['#Frequenz [kH]'][4:]),np.log(df_inv_1k_100k['#Amplitude [V]'][4:]/0.1))\n",
    "x3_g"
   ]
  },
  {
   "cell_type": "code",
   "execution_count": 14,
   "metadata": {},
   "outputs": [
    {
     "data": {
      "text/plain": [
       "956.7348245401749+/-119.524064352722"
      ]
     },
     "execution_count": 14,
     "metadata": {},
     "output_type": "execute_result"
    }
   ],
   "source": [
    "V3_const=uc.ufloat(np.mean(df_inv_1k_100k['#Amplitude [V]'][:2]/0.1),scp.stats.sem(df_inv_1k_100k['#Amplitude [V]'][:2]/0.1))\n",
    "V3_const\n",
    "m3=uc.ufloat(x3_g.slope,x3_g.stderr)\n",
    "a3=uc.ufloat(x3_g.intercept,x3_g.intercept_stderr)\n",
    "#e**a1\n",
    "fg3=(V3_const/(e**(a3)*np.sqrt(2)))**(1/m3)\n",
    "fg3\n",
    "f3=(np.mean(df_inv_1k_100k['#Amplitude [V]'][:2]/0.1)/(e**(x3_g.intercept)*np.sqrt(2)))**(1/x3_g.slope)\n",
    "fg3\n",
    "V3_const*fg3"
   ]
  },
  {
   "cell_type": "code",
   "execution_count": 15,
   "metadata": {},
   "outputs": [
    {
     "data": {
      "text/plain": [
       "<matplotlib.legend.Legend at 0x25cb2892e90>"
      ]
     },
     "execution_count": 15,
     "metadata": {},
     "output_type": "execute_result"
    },
    {
     "data": {
      "image/png": "[encoded data removed]",
      "text/plain": [
       "<Figure size 578x357 with 1 Axes>"
      ]
     },
     "metadata": {},
     "output_type": "display_data"
    }
   ],
   "source": [
    "plt.plot(df_inv_1k_100k['#Frequenz [kH]'][:2],df_inv_1k_100k['#Amplitude [V]'][:2]/0.1,'x',label='konstanter Bereich')\n",
    "plt.plot(df_inv_1k_100k['#Frequenz [kH]'][2:],df_inv_1k_100k['#Amplitude [V]'][2:]/0.1,'x',label='linearer Bereich')\n",
    "plt.plot(np.logspace(0,3),np.exp(x3_g.intercept)*np.logspace(0,3)**x3_g.slope,linestyle='--',label='linearer fit')\n",
    "plt.plot(f3,np.exp(x3_g.intercept)*f3**x3_g.slope,'x',label='Grenzfrequenz')\n",
    "plt.xscale('log')\n",
    "plt.yscale('log')\n",
    "plt.xlabel('Frequenz [kHz]')\n",
    "plt.ylabel('Gain')\n",
    "plt.xlim([10**(-0.2),10**3])\n",
    "plt.ylim([10**-(0.2),10**2.1])\n",
    "plt.legend()"
   ]
  },
  {
   "cell_type": "code",
   "execution_count": 16,
   "metadata": {},
   "outputs": [
    {
     "data": {
      "text/html": [
       "<div>\n",
       "<style scoped>\n",
       "    .dataframe tbody tr th:only-of-type {\n",
       "        vertical-align: middle;\n",
       "    }\n",
       "\n",
       "    .dataframe tbody tr th {\n",
       "        vertical-align: top;\n",
       "    }\n",
       "\n",
       "    .dataframe thead th {\n",
       "        text-align: right;\n",
       "    }\n",
       "</style>\n",
       "<table border=\"1\" class=\"dataframe\">\n",
       "  <thead>\n",
       "    <tr style=\"text-align: right;\">\n",
       "      <th></th>\n",
       "      <th>#Frequenz [kH]</th>\n",
       "      <th>#Amplitude [V]</th>\n",
       "      <th>#Phase[Teil von 360]</th>\n",
       "      <th>Phase</th>\n",
       "    </tr>\n",
       "  </thead>\n",
       "  <tbody>\n",
       "    <tr>\n",
       "      <th>0</th>\n",
       "      <td>1</td>\n",
       "      <td>10.00</td>\n",
       "      <td>1/2</td>\n",
       "      <td>0.500000</td>\n",
       "    </tr>\n",
       "    <tr>\n",
       "      <th>1</th>\n",
       "      <td>10</td>\n",
       "      <td>6.00</td>\n",
       "      <td>3/8</td>\n",
       "      <td>0.375000</td>\n",
       "    </tr>\n",
       "    <tr>\n",
       "      <th>2</th>\n",
       "      <td>20</td>\n",
       "      <td>3.60</td>\n",
       "      <td>3/10</td>\n",
       "      <td>0.300000</td>\n",
       "    </tr>\n",
       "    <tr>\n",
       "      <th>3</th>\n",
       "      <td>30</td>\n",
       "      <td>2.40</td>\n",
       "      <td>4/14</td>\n",
       "      <td>0.285714</td>\n",
       "    </tr>\n",
       "    <tr>\n",
       "      <th>4</th>\n",
       "      <td>40</td>\n",
       "      <td>1.80</td>\n",
       "      <td>3/10</td>\n",
       "      <td>0.300000</td>\n",
       "    </tr>\n",
       "    <tr>\n",
       "      <th>5</th>\n",
       "      <td>50</td>\n",
       "      <td>1.50</td>\n",
       "      <td>2/8</td>\n",
       "      <td>0.250000</td>\n",
       "    </tr>\n",
       "    <tr>\n",
       "      <th>6</th>\n",
       "      <td>60</td>\n",
       "      <td>1.30</td>\n",
       "      <td>3/13</td>\n",
       "      <td>0.230769</td>\n",
       "    </tr>\n",
       "    <tr>\n",
       "      <th>7</th>\n",
       "      <td>70</td>\n",
       "      <td>1.10</td>\n",
       "      <td>3/12</td>\n",
       "      <td>0.250000</td>\n",
       "    </tr>\n",
       "    <tr>\n",
       "      <th>8</th>\n",
       "      <td>80</td>\n",
       "      <td>0.90</td>\n",
       "      <td>2/10</td>\n",
       "      <td>0.200000</td>\n",
       "    </tr>\n",
       "    <tr>\n",
       "      <th>9</th>\n",
       "      <td>90</td>\n",
       "      <td>0.80</td>\n",
       "      <td>2/9</td>\n",
       "      <td>0.222222</td>\n",
       "    </tr>\n",
       "    <tr>\n",
       "      <th>10</th>\n",
       "      <td>100</td>\n",
       "      <td>0.72</td>\n",
       "      <td>5/20</td>\n",
       "      <td>0.250000</td>\n",
       "    </tr>\n",
       "    <tr>\n",
       "      <th>11</th>\n",
       "      <td>110</td>\n",
       "      <td>0.64</td>\n",
       "      <td>5/18</td>\n",
       "      <td>0.277778</td>\n",
       "    </tr>\n",
       "    <tr>\n",
       "      <th>12</th>\n",
       "      <td>120</td>\n",
       "      <td>0.60</td>\n",
       "      <td>5/17</td>\n",
       "      <td>0.294118</td>\n",
       "    </tr>\n",
       "    <tr>\n",
       "      <th>13</th>\n",
       "      <td>130</td>\n",
       "      <td>0.56</td>\n",
       "      <td>4/15</td>\n",
       "      <td>0.266667</td>\n",
       "    </tr>\n",
       "    <tr>\n",
       "      <th>14</th>\n",
       "      <td>140</td>\n",
       "      <td>0.52</td>\n",
       "      <td>3/14</td>\n",
       "      <td>0.214286</td>\n",
       "    </tr>\n",
       "    <tr>\n",
       "      <th>15</th>\n",
       "      <td>150</td>\n",
       "      <td>0.48</td>\n",
       "      <td>3/13</td>\n",
       "      <td>0.230769</td>\n",
       "    </tr>\n",
       "    <tr>\n",
       "      <th>16</th>\n",
       "      <td>200</td>\n",
       "      <td>0.40</td>\n",
       "      <td>2/12</td>\n",
       "      <td>0.166667</td>\n",
       "    </tr>\n",
       "    <tr>\n",
       "      <th>17</th>\n",
       "      <td>250</td>\n",
       "      <td>0.32</td>\n",
       "      <td>1/10</td>\n",
       "      <td>0.100000</td>\n",
       "    </tr>\n",
       "    <tr>\n",
       "      <th>18</th>\n",
       "      <td>300</td>\n",
       "      <td>0.28</td>\n",
       "      <td>1/9</td>\n",
       "      <td>0.111111</td>\n",
       "    </tr>\n",
       "  </tbody>\n",
       "</table>\n",
       "</div>"
      ],
      "text/plain": [
       "    #Frequenz [kH]  #Amplitude [V] #Phase[Teil von 360]     Phase\n",
       "0                1           10.00                  1/2  0.500000\n",
       "1               10            6.00                  3/8  0.375000\n",
       "2               20            3.60                 3/10  0.300000\n",
       "3               30            2.40                 4/14  0.285714\n",
       "4               40            1.80                 3/10  0.300000\n",
       "5               50            1.50                  2/8  0.250000\n",
       "6               60            1.30                 3/13  0.230769\n",
       "7               70            1.10                 3/12  0.250000\n",
       "8               80            0.90                 2/10  0.200000\n",
       "9               90            0.80                  2/9  0.222222\n",
       "10             100            0.72                 5/20  0.250000\n",
       "11             110            0.64                 5/18  0.277778\n",
       "12             120            0.60                 5/17  0.294118\n",
       "13             130            0.56                 4/15  0.266667\n",
       "14             140            0.52                 3/14  0.214286\n",
       "15             150            0.48                 3/13  0.230769\n",
       "16             200            0.40                 2/12  0.166667\n",
       "17             250            0.32                 1/10  0.100000\n",
       "18             300            0.28                  1/9  0.111111"
      ]
     },
     "execution_count": 16,
     "metadata": {},
     "output_type": "execute_result"
    }
   ],
   "source": [
    "df_inv_10k_100k['Phase']=[1/2,1/2,1/2,9/20,2/5,3/8,5/13,5/11,3/10,3/9,5/20,2/7,2/7,2/6,2/6,5/13,2/10,3/16,5/26]\n",
    "df_inv_1k_68k['Phase']=[1/2,3/8,3/10,5/13,3/10,2/8,2/7,3/12,2/10,2/9,2/8,2/7,5/17,4/16,3/14,3/13,2/10,3/20,3/14]\n",
    "df_inv_1k_100k['Phase']=[1/2,3/8,3/10,4/14,3/10,2/8,3/13,3/12,2/10,2/9,5/20,5/18,5/17,4/15,3/14,3/13,2/12,1/10,1/9]\n",
    "df_inv_1k_68k\n",
    "df_inv_1k_100k"
   ]
  },
  {
   "cell_type": "code",
   "execution_count": 17,
   "metadata": {},
   "outputs": [
    {
     "data": {
      "text/html": [
       "<div>\n",
       "<style scoped>\n",
       "    .dataframe tbody tr th:only-of-type {\n",
       "        vertical-align: middle;\n",
       "    }\n",
       "\n",
       "    .dataframe tbody tr th {\n",
       "        vertical-align: top;\n",
       "    }\n",
       "\n",
       "    .dataframe thead th {\n",
       "        text-align: right;\n",
       "    }\n",
       "</style>\n",
       "<table border=\"1\" class=\"dataframe\">\n",
       "  <thead>\n",
       "    <tr style=\"text-align: right;\">\n",
       "      <th></th>\n",
       "      <th>#Frequenz [kH]</th>\n",
       "      <th>#Amplitude [V]</th>\n",
       "      <th>#Phase[Teil von 360]</th>\n",
       "      <th>Phase</th>\n",
       "    </tr>\n",
       "  </thead>\n",
       "  <tbody>\n",
       "    <tr>\n",
       "      <th>1</th>\n",
       "      <td>10</td>\n",
       "      <td>1.0</td>\n",
       "      <td>1/2</td>\n",
       "      <td>0.5</td>\n",
       "    </tr>\n",
       "  </tbody>\n",
       "</table>\n",
       "</div>"
      ],
      "text/plain": [
       "   #Frequenz [kH]  #Amplitude [V] #Phase[Teil von 360]  Phase\n",
       "1              10             1.0                  1/2    0.5"
      ]
     },
     "execution_count": 17,
     "metadata": {},
     "output_type": "execute_result"
    }
   ],
   "source": [
    "df_inv_10k_100k[1:2]"
   ]
  },
  {
   "cell_type": "code",
   "execution_count": 40,
   "metadata": {},
   "outputs": [
    {
     "data": {
      "text/plain": [
       "<matplotlib.legend.Legend at 0x25c9f6f8610>"
      ]
     },
     "execution_count": 40,
     "metadata": {},
     "output_type": "execute_result"
    },
    {
     "data": {
      "image/png": "[encoded data removed]",
      "text/plain": [
       "<Figure size 578x357 with 1 Axes>"
      ]
     },
     "metadata": {},
     "output_type": "display_data"
    }
   ],
   "source": [
    "plt.plot(df_inv_1k_68k['#Frequenz [kH]'],df_inv_1k_68k['Phase']*2,'x',label='R1=1k,R2=68k')\n",
    "#plt.plot(df_inv_10k_100k['#Frequenz [kH]'],df_inv_10k_100k['Phase']*2,'x',label='R1=10k,R2=100k')\n",
    "#plt.plot(df_inv_1k_100k['#Frequenz [kH]'],df_inv_1k_100k['Phase']*2,'x',label='R1=1k,R2=100k')\n",
    "plt.xscale('log')\n",
    "#plt.yscale('log')\n",
    "plt.xlabel('Frequenz [kHz]')\n",
    "plt.ylabel('Phase [Einheiten von Pi]')\n",
    "plt.legend()"
   ]
  },
  {
   "cell_type": "code",
   "execution_count": 41,
   "metadata": {},
   "outputs": [
    {
     "data": {
      "text/plain": [
       "<matplotlib.legend.Legend at 0x25cb3ef3090>"
      ]
     },
     "execution_count": 41,
     "metadata": {},
     "output_type": "execute_result"
    },
    {
     "data": {
      "image/png": "[encoded data removed]",
      "text/plain": [
       "<Figure size 578x357 with 1 Axes>"
      ]
     },
     "metadata": {},
     "output_type": "display_data"
    }
   ],
   "source": [
    "#plt.plot(df_inv_1k_68k['#Frequenz [kH]'],df_inv_1k_68k['Phase']*2,'x',label='R1=1k,R2=68k')\n",
    "plt.plot(df_inv_10k_100k['#Frequenz [kH]'],df_inv_10k_100k['Phase']*2,'x',label='R1=10k,R2=100k')\n",
    "#plt.plot(df_inv_1k_100k['#Frequenz [kH]'],df_inv_1k_100k['Phase']*2,'x',label='R1=1k,R2=100k')\n",
    "plt.xscale('log')\n",
    "#plt.yscale('log')\n",
    "plt.xlabel('Frequenz [kHz]')\n",
    "plt.ylabel('Phase [Einheiten von Pi]')\n",
    "plt.legend()"
   ]
  },
  {
   "cell_type": "code",
   "execution_count": 42,
   "metadata": {},
   "outputs": [
    {
     "data": {
      "text/plain": [
       "<matplotlib.legend.Legend at 0x25cb403ec50>"
      ]
     },
     "execution_count": 42,
     "metadata": {},
     "output_type": "execute_result"
    },
    {
     "data": {
      "image/png": "[encoded data removed]",
      "text/plain": [
       "<Figure size 578x357 with 1 Axes>"
      ]
     },
     "metadata": {},
     "output_type": "display_data"
    }
   ],
   "source": [
    "#plt.plot(df_inv_1k_68k['#Frequenz [kH]'],df_inv_1k_68k['Phase']*2,'x',label='R1=1k,R2=68k')\n",
    "#plt.plot(df_inv_10k_100k['#Frequenz [kH]'],df_inv_10k_100k['Phase']*2,'x',label='R1=10k,R2=100k')\n",
    "plt.plot(df_inv_1k_100k['#Frequenz [kH]'],df_inv_1k_100k['Phase']*2,'x',label='R1=1k,R2=100k')\n",
    "plt.xscale('log')\n",
    "#plt.yscale('log')\n",
    "plt.xlabel('Frequenz [kHz]')\n",
    "plt.ylabel('Phase [Einheiten von Pi]')\n",
    "plt.legend()"
   ]
  },
  {
   "cell_type": "code",
   "execution_count": 19,
   "metadata": {},
   "outputs": [
    {
     "data": {
      "text/html": [
       "<div>\n",
       "<style scoped>\n",
       "    .dataframe tbody tr th:only-of-type {\n",
       "        vertical-align: middle;\n",
       "    }\n",
       "\n",
       "    .dataframe tbody tr th {\n",
       "        vertical-align: top;\n",
       "    }\n",
       "\n",
       "    .dataframe thead th {\n",
       "        text-align: right;\n",
       "    }\n",
       "</style>\n",
       "<table border=\"1\" class=\"dataframe\">\n",
       "  <thead>\n",
       "    <tr style=\"text-align: right;\">\n",
       "      <th></th>\n",
       "      <th>#Frequenz [Hz]</th>\n",
       "      <th>#Amplitude [V]</th>\n",
       "    </tr>\n",
       "  </thead>\n",
       "  <tbody>\n",
       "    <tr>\n",
       "      <th>0</th>\n",
       "      <td>10</td>\n",
       "      <td>5.20</td>\n",
       "    </tr>\n",
       "    <tr>\n",
       "      <th>1</th>\n",
       "      <td>20</td>\n",
       "      <td>3.90</td>\n",
       "    </tr>\n",
       "    <tr>\n",
       "      <th>2</th>\n",
       "      <td>30</td>\n",
       "      <td>2.80</td>\n",
       "    </tr>\n",
       "    <tr>\n",
       "      <th>3</th>\n",
       "      <td>40</td>\n",
       "      <td>2.40</td>\n",
       "    </tr>\n",
       "    <tr>\n",
       "      <th>4</th>\n",
       "      <td>50</td>\n",
       "      <td>2.00</td>\n",
       "    </tr>\n",
       "    <tr>\n",
       "      <th>5</th>\n",
       "      <td>60</td>\n",
       "      <td>1.60</td>\n",
       "    </tr>\n",
       "    <tr>\n",
       "      <th>6</th>\n",
       "      <td>80</td>\n",
       "      <td>1.20</td>\n",
       "    </tr>\n",
       "    <tr>\n",
       "      <th>7</th>\n",
       "      <td>100</td>\n",
       "      <td>1.00</td>\n",
       "    </tr>\n",
       "    <tr>\n",
       "      <th>8</th>\n",
       "      <td>150</td>\n",
       "      <td>0.70</td>\n",
       "    </tr>\n",
       "    <tr>\n",
       "      <th>9</th>\n",
       "      <td>200</td>\n",
       "      <td>0.55</td>\n",
       "    </tr>\n",
       "    <tr>\n",
       "      <th>10</th>\n",
       "      <td>300</td>\n",
       "      <td>0.36</td>\n",
       "    </tr>\n",
       "    <tr>\n",
       "      <th>11</th>\n",
       "      <td>400</td>\n",
       "      <td>0.26</td>\n",
       "    </tr>\n",
       "    <tr>\n",
       "      <th>12</th>\n",
       "      <td>500</td>\n",
       "      <td>0.22</td>\n",
       "    </tr>\n",
       "    <tr>\n",
       "      <th>13</th>\n",
       "      <td>600</td>\n",
       "      <td>0.18</td>\n",
       "    </tr>\n",
       "    <tr>\n",
       "      <th>14</th>\n",
       "      <td>700</td>\n",
       "      <td>0.16</td>\n",
       "    </tr>\n",
       "    <tr>\n",
       "      <th>15</th>\n",
       "      <td>800</td>\n",
       "      <td>0.14</td>\n",
       "    </tr>\n",
       "    <tr>\n",
       "      <th>16</th>\n",
       "      <td>900</td>\n",
       "      <td>0.12</td>\n",
       "    </tr>\n",
       "    <tr>\n",
       "      <th>17</th>\n",
       "      <td>1000</td>\n",
       "      <td>0.11</td>\n",
       "    </tr>\n",
       "  </tbody>\n",
       "</table>\n",
       "</div>"
      ],
      "text/plain": [
       "    #Frequenz [Hz]  #Amplitude [V]\n",
       "0               10            5.20\n",
       "1               20            3.90\n",
       "2               30            2.80\n",
       "3               40            2.40\n",
       "4               50            2.00\n",
       "5               60            1.60\n",
       "6               80            1.20\n",
       "7              100            1.00\n",
       "8              150            0.70\n",
       "9              200            0.55\n",
       "10             300            0.36\n",
       "11             400            0.26\n",
       "12             500            0.22\n",
       "13             600            0.18\n",
       "14             700            0.16\n",
       "15             800            0.14\n",
       "16             900            0.12\n",
       "17            1000            0.11"
      ]
     },
     "execution_count": 19,
     "metadata": {},
     "output_type": "execute_result"
    }
   ],
   "source": [
    "df_int"
   ]
  },
  {
   "cell_type": "code",
   "execution_count": 20,
   "metadata": {},
   "outputs": [
    {
     "name": "stdout",
     "output_type": "stream",
     "text": [
      "LinregressResult(slope=-0.8946143947356756, intercept=4.052288791680253, rvalue=-0.9964488498853387, pvalue=1.2574456733641843e-18, stderr=0.01889881134915817, intercept_stderr=0.09907330603124193)\n"
     ]
    },
    {
     "data": {
      "text/plain": [
       "57.52897832258667+/-5.699586075018312"
      ]
     },
     "execution_count": 20,
     "metadata": {},
     "output_type": "execute_result"
    }
   ],
   "source": [
    "x4=scp.stats.linregress(np.log(df_int['#Frequenz [Hz]']),np.log(df_int['#Amplitude [V]']))\n",
    "a4=uc.ufloat(x4.intercept,x4.intercept_stderr)\n",
    "print(x4)\n",
    "e**a4"
   ]
  },
  {
   "cell_type": "code",
   "execution_count": 21,
   "metadata": {},
   "outputs": [
    {
     "data": {
      "text/plain": [
       "<matplotlib.legend.Legend at 0x25cb2c0a050>"
      ]
     },
     "execution_count": 21,
     "metadata": {},
     "output_type": "execute_result"
    },
    {
     "data": {
      "image/png": "[encoded data removed]",
      "text/plain": [
       "<Figure size 578x357 with 1 Axes>"
      ]
     },
     "metadata": {},
     "output_type": "display_data"
    }
   ],
   "source": [
    "plt.plot(df_int['#Frequenz [Hz]'],df_int['#Amplitude [V]'],'x',label='Data')\n",
    "plt.plot(np.logspace(0.9,3.1),np.exp(x4.intercept)*np.logspace(0.9,3.1)**x4.slope,linestyle='--',label='fit')\n",
    "plt.xscale('log')\n",
    "plt.yscale('log')\n",
    "plt.xlabel('Frequenz [Hz]')\n",
    "plt.ylabel('Amplitude [V]')\n",
    "plt.xlim([10**0.9,10**3.1])\n",
    "plt.legend()"
   ]
  },
  {
   "cell_type": "code",
   "execution_count": 22,
   "metadata": {},
   "outputs": [
    {
     "name": "stdout",
     "output_type": "stream",
     "text": [
      "LinregressResult(slope=0.9580603698517689, intercept=-4.7084495753234235, rvalue=0.998935423864911, pvalue=8.266348048772685e-23, stderr=0.011060715348247836, intercept_stderr=0.05798362745550264)\n"
     ]
    },
    {
     "data": {
      "text/plain": [
       "0.009018749640320262+/-0.0005229398192587785"
      ]
     },
     "execution_count": 22,
     "metadata": {},
     "output_type": "execute_result"
    }
   ],
   "source": [
    "x5=scp.stats.linregress(np.log(df_diff['#Frequenz [Hz]']),np.log(df_diff['#Amplitude [V]']))\n",
    "print(x5)\n",
    "a5=uc.ufloat(x5.intercept,x5.intercept_stderr)\n",
    "e**a5"
   ]
  },
  {
   "cell_type": "code",
   "execution_count": 23,
   "metadata": {},
   "outputs": [
    {
     "data": {
      "text/plain": [
       "<matplotlib.legend.Legend at 0x25cb30a2050>"
      ]
     },
     "execution_count": 23,
     "metadata": {},
     "output_type": "execute_result"
    },
    {
     "data": {
      "image/png": "[encoded data removed]",
      "text/plain": [
       "<Figure size 578x357 with 1 Axes>"
      ]
     },
     "metadata": {},
     "output_type": "display_data"
    }
   ],
   "source": [
    "plt.plot(df_diff['#Frequenz [Hz]'],df_diff['#Amplitude [V]'],'x',label='Data')\n",
    "plt.plot(np.logspace(0.8,3.2),np.exp(x5.intercept)*np.logspace(0.8,3.2)**x5.slope,linestyle='--',label='fit')\n",
    "plt.xscale('log')\n",
    "plt.yscale('log')\n",
    "plt.xlabel('Frequenz [Hz]')\n",
    "plt.ylabel('Amplitude [V]')\n",
    "plt.xlim([10**0.8,10**3.2])\n",
    "plt.legend()"
   ]
  },
  {
   "cell_type": "code",
   "execution_count": 24,
   "metadata": {},
   "outputs": [
    {
     "name": "stdout",
     "output_type": "stream",
     "text": [
      "1.5666666666666664\n",
      "-1.5\n",
      "0.06009252125773316\n",
      "0.05773502691896263\n"
     ]
    }
   ],
   "source": [
    "print(np.mean([1.45,1.6,1.65]))\n",
    "print(np.mean([-1.6,-1.5,-1.4]))\n",
    "print(scp.stats.sem([1.45,1.6,1.65]))\n",
    "print(scp.stats.sem([-1.6,-1.5,-1.4]))"
   ]
  },
  {
   "cell_type": "code",
   "execution_count": 25,
   "metadata": {},
   "outputs": [
    {
     "data": {
      "text/plain": [
       "[<matplotlib.lines.Line2D at 0x25cb3146610>]"
      ]
     },
     "execution_count": 25,
     "metadata": {},
     "output_type": "execute_result"
    },
    {
     "data": {
      "image/png": "[encoded data removed]",
      "text/plain": [
       "<Figure size 578x357 with 1 Axes>"
      ]
     },
     "metadata": {},
     "output_type": "display_data"
    }
   ],
   "source": [
    "df_ged_schwing=df_ged_schwing.dropna()\n",
    "df_ged_schwing['x-axis']\n",
    "#plt.plot(df_ged_schwing['x-axis'],df_ged_schwing['1'])\n",
    "plt.plot(df_ged_schwing['x-axis'],df_ged_schwing['1'])"
   ]
  },
  {
   "cell_type": "code",
   "execution_count": 26,
   "metadata": {},
   "outputs": [],
   "source": [
    "df_ged_schwing_b=df_ged_schwing[400:900]"
   ]
  },
  {
   "cell_type": "code",
   "execution_count": 27,
   "metadata": {},
   "outputs": [
    {
     "data": {
      "text/plain": [
       "array([-0.00406, -0.00364, -0.00323, -0.00278, -0.00236, -0.0019 ])"
      ]
     },
     "execution_count": 27,
     "metadata": {},
     "output_type": "execute_result"
    }
   ],
   "source": [
    "peaks,properties=scp.signal.find_peaks(df_ged_schwing_b['1'],height=0.0025,distance=10)\n",
    "peaks\n",
    "#df_ged_schwing['1'][400:900][peaks]\n",
    "df_peaks=pd.DataFrame([])\n",
    "df_peaks_x=np.array(df_ged_schwing_b['x-axis'])\n",
    "df_peaks_1=np.array(df_ged_schwing_b['1'])\n",
    "df_peaks_2=np.array(df_ged_schwing_b['2'])\n",
    "#for i in range(np.size(peaks)):\n",
    "#    df_peaks['x-axis'][i:i+1]=df_ged_schwing_b['x-axis'][peaks[i]:peaks[i+1]]\n",
    "#    df_peaks['1'][i:i+1]=df_ged_schwing_b['1'][peaks[i]:peaks[i+1]]\n",
    "#    df_peaks['2'][i:i+1]=df_ged_schwing_b['2'][peaks[i]:peaks[i+1]]\n",
    "df_peaks_x=df_peaks_x[peaks]\n",
    "df_peaks_1=df_peaks_1[peaks]\n",
    "df_peaks_2=df_peaks_2[peaks]\n",
    "df_peaks_x"
   ]
  },
  {
   "cell_type": "code",
   "execution_count": 28,
   "metadata": {},
   "outputs": [
    {
     "name": "stdout",
     "output_type": "stream",
     "text": [
      "[119 161 202 247 289 335]\n"
     ]
    },
    {
     "data": {
      "text/plain": [
       "array([-0.00406, -0.00364, -0.00323, -0.00278, -0.00236, -0.0019 ])"
      ]
     },
     "execution_count": 28,
     "metadata": {},
     "output_type": "execute_result"
    }
   ],
   "source": [
    "print(peaks)\n",
    "df_peaks_x"
   ]
  },
  {
   "cell_type": "code",
   "execution_count": 29,
   "metadata": {},
   "outputs": [
    {
     "name": "stdout",
     "output_type": "stream",
     "text": [
      "LinregressResult(slope=-1912.8358898606816, intercept=-6.497924510165796, rvalue=-0.9958900472267338, pvalue=2.530285562884212e-05, stderr=86.98072953642581, intercept_stderr=0.2682668171724396)\n"
     ]
    },
    {
     "data": {
      "text/plain": [
       "-0.0005227840011266379+/-2.3772104051894652e-05"
      ]
     },
     "execution_count": 29,
     "metadata": {},
     "output_type": "execute_result"
    }
   ],
   "source": [
    "x6=scp.stats.linregress(df_peaks_x,np.log(df_peaks_1))\n",
    "print(x6)\n",
    "a6=uc.ufloat(x6.intercept,x6.intercept_stderr)\n",
    "m6=uc.ufloat(x6.slope,x6.stderr)\n",
    "e**a6\n",
    "1/m6"
   ]
  },
  {
   "cell_type": "code",
   "execution_count": 30,
   "metadata": {},
   "outputs": [
    {
     "data": {
      "text/plain": [
       "<matplotlib.legend.Legend at 0x25cb354b290>"
      ]
     },
     "execution_count": 30,
     "metadata": {},
     "output_type": "execute_result"
    },
    {
     "data": {
      "image/png": "[encoded data removed]",
      "text/plain": [
       "<Figure size 578x357 with 1 Axes>"
      ]
     },
     "metadata": {},
     "output_type": "display_data"
    }
   ],
   "source": [
    "df_ged_schwing=df_ged_schwing.dropna()\n",
    "df_ged_schwing['x-axis']\n",
    "#plt.plot(df_ged_schwing['x-axis'],df_ged_schwing['1'])\n",
    "plt.plot(df_ged_schwing_b['x-axis'],df_ged_schwing_b['1'],label='Data')\n",
    "plt.plot(df_peaks_x,df_peaks_1,'x',label='peaks')\n",
    "plt.plot(np.linspace(-0.005,-0.001),e**x6.intercept*e**(x6.slope*np.linspace(-0.005,-0.001)),label='Fit')\n",
    "#plt.ylim([-3,4])\n",
    "plt.xlim([-0.005,-0.001])\n",
    "plt.yscale('log')\n",
    "plt.xlabel('zeit [s]')\n",
    "plt.ylabel('Spannung [V]')\n",
    "plt.legend()"
   ]
  },
  {
   "cell_type": "code",
   "execution_count": 31,
   "metadata": {},
   "outputs": [
    {
     "data": {
      "text/plain": [
       "<matplotlib.legend.Legend at 0x25cb30dec50>"
      ]
     },
     "execution_count": 31,
     "metadata": {},
     "output_type": "execute_result"
    },
    {
     "data": {
      "image/png": "[encoded data removed]",
      "text/plain": [
       "<Figure size 578x357 with 1 Axes>"
      ]
     },
     "metadata": {},
     "output_type": "display_data"
    }
   ],
   "source": [
    "df_ged_schwing=df_ged_schwing.dropna()\n",
    "df_ged_schwing['x-axis']\n",
    "#plt.plot(df_ged_schwing['x-axis'],df_ged_schwing['1'])\n",
    "plt.plot(df_ged_schwing_b['x-axis'],df_ged_schwing_b['1'],label='Data')\n",
    "plt.plot(df_peaks_x,df_peaks_1,'x',label='peaks')\n",
    "plt.plot(np.linspace(-0.005,-0.001),e**x6.intercept*e**(x6.slope*np.linspace(-0.005,-0.001)),label='Fit')\n",
    "plt.ylim([-3,4])\n",
    "plt.xlim([-0.005,-0.001])\n",
    "#plt.yscale('log')\n",
    "plt.xlabel('zeit [s]')\n",
    "plt.ylabel('Spannung [V]')\n",
    "plt.legend()"
   ]
  },
  {
   "cell_type": "code",
   "execution_count": 32,
   "metadata": {},
   "outputs": [
    {
     "data": {
      "text/plain": [
       "array([2380.95238095, 2439.02439024, 2222.22222222, 2380.95238095,\n",
       "       2173.91304348])"
      ]
     },
     "execution_count": 32,
     "metadata": {},
     "output_type": "execute_result"
    }
   ],
   "source": [
    "np.max(df_ged_schwing['x-axis'])\n",
    "1/np.diff(df_peaks_x)"
   ]
  },
  {
   "cell_type": "code",
   "execution_count": 33,
   "metadata": {},
   "outputs": [
    {
     "name": "stdout",
     "output_type": "stream",
     "text": [
      "1700.0\n"
     ]
    },
    {
     "data": {
      "text/plain": [
       "2.2058823529411766"
      ]
     },
     "execution_count": 33,
     "metadata": {},
     "output_type": "execute_result"
    }
   ],
   "source": [
    "print(68000/(4*10000*1000*10**(-6)))\n",
    "15*10/68"
   ]
  },
  {
   "cell_type": "code",
   "execution_count": 34,
   "metadata": {},
   "outputs": [
    {
     "name": "stdout",
     "output_type": "stream",
     "text": [
      "0.0004335397861953915\n",
      "0.0004320000000000001\n",
      "0.0013800000000000002\n",
      "-0.0005227840011266379\n"
     ]
    }
   ],
   "source": [
    "T=2*np.pi*1000*69*10**(-9)\n",
    "print(T)\n",
    "T_exp=np.mean(np.diff(df_peaks_x))\n",
    "print(T_exp)\n",
    "scp.stats.sem(np.diff(df_peaks_x))\n",
    "print(20*1000*69*10**(-9))\n",
    "print(1/x6.slope)"
   ]
  },
  {
   "cell_type": "code",
   "execution_count": 39,
   "metadata": {},
   "outputs": [
    {
     "name": "stdout",
     "output_type": "stream",
     "text": [
      "1700.0\n",
      "1.4\n"
     ]
    }
   ],
   "source": [
    "print(68000/(4*10000*1000*10**(-6)))\n",
    "print(14*10/100)"
   ]
  },
  {
   "cell_type": "code",
   "execution_count": null,
   "metadata": {},
   "outputs": [],
   "source": []
  }
 ],
 "metadata": {
  "kernelspec": {
   "display_name": "Python 3",
   "language": "python",
   "name": "python3"
  },
  "language_info": {
   "codemirror_mode": {
    "name": "ipython",
    "version": 3
   },
   "file_extension": ".py",
   "mimetype": "text/x-python",
   "name": "python",
   "nbconvert_exporter": "python",
   "pygments_lexer": "ipython3",
   "version": "3.11.6"
  },
  "orig_nbformat": 4
 },
 "nbformat": 4,
 "nbformat_minor": 2
}
